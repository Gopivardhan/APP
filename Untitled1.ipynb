{
  "nbformat": 4,
  "nbformat_minor": 0,
  "metadata": {
    "colab": {
      "name": "Untitled1.ipynb",
      "provenance": []
    },
    "kernelspec": {
      "name": "python3",
      "display_name": "Python 3"
    },
    "language_info": {
      "name": "python"
    }
  },
  "cells": [
    {
      "cell_type": "code",
      "execution_count": 19,
      "metadata": {
        "id": "7mlqrBFiYk3h"
      },
      "outputs": [],
      "source": [
        "import sqlite3"
      ]
    },
    {
      "cell_type": "code",
      "source": [
        "Connection = sqlite3.connect('studentdsbsnew.db')"
      ],
      "metadata": {
        "id": "O4RGFdfCZtqT"
      },
      "execution_count": 20,
      "outputs": []
    },
    {
      "cell_type": "code",
      "source": [
        "cursor = Connection.cursor()"
      ],
      "metadata": {
        "id": "mw49bmQWaabP"
      },
      "execution_count": 21,
      "outputs": []
    },
    {
      "cell_type": "code",
      "source": [
        "print(\"connected\")"
      ],
      "metadata": {
        "colab": {
          "base_uri": "https://localhost:8080/"
        },
        "id": "cld3RzaWauii",
        "outputId": "f51e8ab6-3872-4ac5-879e-c6f1c35febb8"
      },
      "execution_count": 22,
      "outputs": [
        {
          "output_type": "stream",
          "name": "stdout",
          "text": [
            "connected\n"
          ]
        }
      ]
    },
    {
      "cell_type": "code",
      "source": [
        "sql_command = (\"\"\"CREATE TABLE studentdsbsnew(regno INTEGER PRIMARY KEY,name VARCHAR(20),phonenumber INTEGER);\"\"\")\n",
        "cursor.execute(sql_command)\n"
      ],
      "metadata": {
        "colab": {
          "base_uri": "https://localhost:8080/"
        },
        "id": "_1Ikxvh7bJdg",
        "outputId": "cbfc20cc-32a2-4b26-f2b8-49c9ace7ef45"
      },
      "execution_count": 23,
      "outputs": [
        {
          "output_type": "execute_result",
          "data": {
            "text/plain": [
              "<sqlite3.Cursor at 0x7f8c04ed6110>"
            ]
          },
          "metadata": {},
          "execution_count": 23
        }
      ]
    },
    {
      "cell_type": "code",
      "source": [
        "print(\"table created\")"
      ],
      "metadata": {
        "id": "CiQ46b42edon",
        "outputId": "eed2a4f6-1baa-4c8d-99a0-e576146933a3",
        "colab": {
          "base_uri": "https://localhost:8080/"
        }
      },
      "execution_count": 24,
      "outputs": [
        {
          "output_type": "stream",
          "name": "stdout",
          "text": [
            "table created\n"
          ]
        }
      ]
    },
    {
      "cell_type": "code",
      "source": [
        "cursor.execute('''insert into studentdsbsnew values(1011,'subha',9900007878)''')\n",
        "cursor.execute('''insert into studentdsbsnew values(1012,'prathibha',9900051324)''')\n",
        "cursor.execute('''insert into studentdsbsnew values(1013,'mahi',8840507878)''')\n"
      ],
      "metadata": {
        "id": "Xd1ibb7seq4y",
        "outputId": "837fa5f1-1338-49b1-969d-82e52d3852f2",
        "colab": {
          "base_uri": "https://localhost:8080/"
        }
      },
      "execution_count": 28,
      "outputs": [
        {
          "output_type": "execute_result",
          "data": {
            "text/plain": [
              "<sqlite3.Cursor at 0x7f8c04ed6110>"
            ]
          },
          "metadata": {},
          "execution_count": 28
        }
      ]
    },
    {
      "cell_type": "code",
      "source": [
        "print(\"the inserted data are as follows\")\n",
        "data=cursor.execute('''select * from studentdsbsnew''')\n",
        "for row in data:\n",
        "  print(row) "
      ],
      "metadata": {
        "id": "GdQCVUaugDj3",
        "outputId": "0ce1dcc0-abc5-4aeb-cec6-7c722bbda702",
        "colab": {
          "base_uri": "https://localhost:8080/"
        }
      },
      "execution_count": 30,
      "outputs": [
        {
          "output_type": "stream",
          "name": "stdout",
          "text": [
            "the inserted data are as follows\n",
            "(101, 'subha', 9900007878)\n",
            "(1011, 'subha', 9900007878)\n",
            "(1012, 'prathibha', 9900051324)\n",
            "(1013, 'mahi', 8840507878)\n"
          ]
        }
      ]
    },
    {
      "cell_type": "code",
      "source": [
        "Connection.commit()"
      ],
      "metadata": {
        "id": "rrW7LOUQg-He"
      },
      "execution_count": 31,
      "outputs": []
    },
    {
      "cell_type": "code",
      "source": [
        "data=cursor.execute('''select * from studentdsbsnew where regno=1011''')\n",
        "for row in data:\n",
        "  print(row)"
      ],
      "metadata": {
        "id": "fsiyzWtchaur",
        "outputId": "cc67399f-277f-4175-fabc-3e4e10456e7f",
        "colab": {
          "base_uri": "https://localhost:8080/"
        }
      },
      "execution_count": 33,
      "outputs": [
        {
          "output_type": "stream",
          "name": "stdout",
          "text": [
            "(1011, 'subha', 9900007878)\n"
          ]
        }
      ]
    },
    {
      "cell_type": "code",
      "source": [
        "data=cursor.execute('''update studentdsbsnew SET phonenumber=9999999999 where regno=1012;''')\n",
        "data=cursor.execute('''select * from studentdsbsnew where regno=1012''')\n",
        "for row in data:\n",
        "  print(row)"
      ],
      "metadata": {
        "id": "vX2YgVZTiLvU",
        "outputId": "eb294b6b-8823-442c-919c-1074da2d9dbf",
        "colab": {
          "base_uri": "https://localhost:8080/"
        }
      },
      "execution_count": 35,
      "outputs": [
        {
          "output_type": "stream",
          "name": "stdout",
          "text": [
            "(1012, 'prathibha', 9999999999)\n"
          ]
        }
      ]
    },
    {
      "cell_type": "code",
      "source": [
        "data=cursor.execute('''delete from studentdsbsnew where name=\"prathibha\";''')\n",
        "print(\"record deletd\")\n",
        "data=cursor.execute('''select * from studentdsbsnew''')\n",
        "for row in data:\n",
        "  print(row)"
      ],
      "metadata": {
        "id": "-nh8Qer_j-qM",
        "outputId": "7471d7f3-686c-4f14-b087-3317e5bc7ab0",
        "colab": {
          "base_uri": "https://localhost:8080/"
        }
      },
      "execution_count": 37,
      "outputs": [
        {
          "output_type": "stream",
          "name": "stdout",
          "text": [
            "record deletd\n",
            "(101, 'subha', 9900007878)\n",
            "(1011, 'subha', 9900007878)\n",
            "(1013, 'mahi', 8840507878)\n"
          ]
        }
      ]
    }
  ]
}